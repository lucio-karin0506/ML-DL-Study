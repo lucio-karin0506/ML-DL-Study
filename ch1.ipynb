{
 "cells": [
  {
   "cell_type": "markdown",
   "source": [
    "ddd"
   ],
   "metadata": {}
  },
  {
   "cell_type": "markdown",
   "source": [
    "dvesdfv"
   ],
   "metadata": {}
  }
 ],
 "metadata": {
  "orig_nbformat": 4,
  "language_info": {
   "name": "python",
   "version": "3.9.5",
   "mimetype": "text/x-python",
   "codemirror_mode": {
    "name": "ipython",
    "version": 3
   },
   "pygments_lexer": "ipython3",
   "nbconvert_exporter": "python",
   "file_extension": ".py"
  },
  "kernelspec": {
   "name": "python3",
   "display_name": "Python 3.9.5 64-bit ('ML_env': conda)"
  },
  "interpreter": {
   "hash": "7f9fcc5c1a6ffe0d5ecfdb6423e678fe1ccb77b795d6b5f0b646ac973c9c9d43"
  }
 },
 "nbformat": 4,
 "nbformat_minor": 2
}