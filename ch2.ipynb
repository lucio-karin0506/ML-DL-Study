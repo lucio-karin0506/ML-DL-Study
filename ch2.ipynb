{
 "cells": [
  {
   "cell_type": "markdown",
   "source": [
    "## ch2. 머신러닝 프로젝트 처음부터 끝까지"
   ],
   "metadata": {}
  },
  {
   "cell_type": "markdown",
   "source": [
    "### 2.1) 데이터 다운로드"
   ],
   "metadata": {}
  },
  {
   "cell_type": "code",
   "execution_count": null,
   "source": [
    "import os\r\n",
    "import tarfile\r\n",
    "import urllib\r\n",
    "\r\n",
    "DOWNLOAD_ROOT = \"https://raw.githubusercontent.com/ageron/handson-ml2/master/\"\r\n",
    "HOUSING_PATH = os.path.join(\"datasets\", \"housing\")\r\n",
    "HOUSING_URL = DOWNLOAD_ROOT + \"datasets/housing/housing.tgz\"\r\n",
    "\r\n",
    "def fetch_housing_data(housing_url=HOUSING_URL, housing_path=HOUSING_PATH):\r\n",
    "    os.makedirs(housing_path, exist_ok=True)\r\n",
    "    tgz_path = os.path.join(housing_path,\"housing.tgz\")\r\n",
    "    urllib.request.urlretrieve(housing_url, tgz_path)\r\n",
    "    housing_tgz = tarfile.open(tgz_path)\r\n",
    "    housing_tgz.extractall(path=housing_path)\r\n",
    "    housing_tgz.close()\r\n",
    "\r\n",
    "fetch_housing_data()"
   ],
   "outputs": [],
   "metadata": {}
  },
  {
   "cell_type": "code",
   "execution_count": null,
   "source": [
    "import pandas as pd\r\n",
    "\r\n",
    "def load_housing_data(housing_path=HOUSING_PATH):\r\n",
    "    csv_path = os.path.join(housing_path, 'housing.csv')\r\n",
    "    return pd.read_csv(csv_path)\r\n",
    "\r\n",
    "load_housing_data()"
   ],
   "outputs": [],
   "metadata": {}
  },
  {
   "cell_type": "markdown",
   "source": [
    "### 2.2) 데이터 구조 훑어보기"
   ],
   "metadata": {}
  },
  {
   "cell_type": "code",
   "execution_count": null,
   "source": [
    "housing = load_housing_data()\r\n",
    "housing.head()"
   ],
   "outputs": [],
   "metadata": {}
  },
  {
   "cell_type": "code",
   "execution_count": null,
   "source": [
    "housing.info()"
   ],
   "outputs": [],
   "metadata": {}
  },
  {
   "cell_type": "code",
   "execution_count": null,
   "source": [
    "housing['ocean_proximity'].value_counts()"
   ],
   "outputs": [],
   "metadata": {}
  },
  {
   "cell_type": "code",
   "execution_count": null,
   "source": [
    "housing.describe()"
   ],
   "outputs": [],
   "metadata": {}
  },
  {
   "cell_type": "code",
   "execution_count": null,
   "source": [
    "# %matplotlib inline\r\n",
    "import matplotlib.pyplot as plt\r\n",
    "housing.hist(bins=50, figsize=(20, 15))\r\n",
    "plt.show()"
   ],
   "outputs": [],
   "metadata": {}
  },
  {
   "cell_type": "markdown",
   "source": [
    "### 2.3) 테스트 세트 만들기"
   ],
   "metadata": {}
  },
  {
   "cell_type": "code",
   "execution_count": null,
   "source": [
    "import numpy as np\r\n",
    "\r\n",
    "# 완벽하지 않은 테스트 데이터 분할 방식\r\n",
    "# 다시 실행할 때마다 다른 테스트 세트 생성됨 => 전체 데이터셋 보는 셈\r\n",
    "def split_train_test(data, test_ratio):\r\n",
    "    # solution 1. np.random.seed(42)\r\n",
    "    shuffled_indices = np.random.permutation(len(data))\r\n",
    "    test_set_size = int(len(data) * test_ratio)\r\n",
    "    test_indices = shuffled_indices[:test_set_size]\r\n",
    "    train_indices = shuffled_indices[test_set_size:]\r\n",
    "    return data.iloc[train_indices], data.iloc[test_indices]"
   ],
   "outputs": [],
   "metadata": {}
  },
  {
   "cell_type": "code",
   "execution_count": null,
   "source": [
    "train_set, test_set = split_train_test(housing, 0.2)\r\n",
    "len(train_set)"
   ],
   "outputs": [],
   "metadata": {}
  },
  {
   "cell_type": "code",
   "execution_count": null,
   "source": [
    "len(test_set)"
   ],
   "outputs": [],
   "metadata": {}
  },
  {
   "cell_type": "code",
   "execution_count": null,
   "source": [
    "from zlib import crc32\r\n",
    "\r\n",
    "# 샘플의 식별자를 사용\r\n",
    "# 각 샘플마다 식별자의 해시값 계산, 해시 최댓값의 20%보다 작거나 같은 샘플만 테스트 세트로 보냄.\r\n",
    "def test_set_check(identifier, test_ratio):\r\n",
    "    return crc32(np.int64(identifier)) & 0xffffffff < test_ratio * 2 ** 32"
   ],
   "outputs": [],
   "metadata": {}
  },
  {
   "cell_type": "code",
   "execution_count": null,
   "source": [
    "def split_train_test_by_id(data, test_ratio, id_column):\r\n",
    "    ids = data[id_column]\r\n",
    "    in_test_set = ids.apply(lambda id_: test_set_check(id_, test_ratio))\r\n",
    "    return data.loc[~in_test_set], data.loc[in_test_set]"
   ],
   "outputs": [],
   "metadata": {}
  },
  {
   "cell_type": "code",
   "execution_count": null,
   "source": [
    "# housing 데이터프레임에 고유 식별자 컬럼 없으므로 고유 식별자 추가\r\n",
    "housing_with_id = housing.reset_index()\r\n",
    "\r\n",
    "train_set, test_set = split_train_test_by_id(housing_with_id, 0.2, 'index')"
   ],
   "outputs": [],
   "metadata": {}
  },
  {
   "cell_type": "code",
   "execution_count": null,
   "source": [
    "# 위도, 경도 좌표 값 특성 이용한 id 생성\r\n",
    "housing_with_id['id'] = housing['longitude'] * 1000 + housing['latitude']\r\n",
    "train_set, test_set = split_train_test_by_id(housing_with_id, 0.2, 'id')"
   ],
   "outputs": [],
   "metadata": {}
  },
  {
   "cell_type": "code",
   "execution_count": null,
   "source": [
    "# 사이킷런을 이용한 train, test split\r\n",
    "from sklearn.model_selection import train_test_split\r\n",
    "\r\n",
    "train_set, test_set = train_test_split(housing, test_size=0.2, random_state=42)"
   ],
   "outputs": [],
   "metadata": {}
  },
  {
   "cell_type": "code",
   "execution_count": null,
   "source": [
    "# 완전 무작위 샘플링 통한 결과 편향성 방지\r\n",
    "# 계층적 샘플링 필요 => 각 계층별 고른 개체 수 확보 필요\r\n",
    "\r\n",
    "housing['income_cat'] = pd.cut(housing['median_income'], \r\n",
    "                               bins=[0., 1.5, 3.0, 4.5, 6., np.inf],\r\n",
    "                               labels=[1, 2, 3, 4, 5])\r\n",
    "\r\n",
    "housing['income_cat'].hist()"
   ],
   "outputs": [],
   "metadata": {}
  },
  {
   "cell_type": "code",
   "execution_count": null,
   "source": [
    "# 층화 무작위 추출=> train, test data 나눌 때 안에 계층 비율 유지하도록 함.\r\n",
    "from sklearn.model_selection import StratifiedShuffleSplit\r\n",
    "\r\n",
    "split = StratifiedShuffleSplit(n_splits=1, test_size=0.2, random_state=42)\r\n",
    "for train_index, test_index in split.split(housing, housing['income_cat']):\r\n",
    "    strat_train_set = housing.loc[train_index]\r\n",
    "    strat_test_set = housing.loc[test_index]"
   ],
   "outputs": [],
   "metadata": {}
  },
  {
   "cell_type": "code",
   "execution_count": null,
   "source": [
    "strat_test_set['income_cat'].value_counts() / len(strat_test_set)"
   ],
   "outputs": [],
   "metadata": {}
  },
  {
   "cell_type": "code",
   "execution_count": null,
   "source": [
    "for set_ in (strat_train_set, strat_test_set):\r\n",
    "    set_.drop('income_cat', axis=1, inplace=True)"
   ],
   "outputs": [],
   "metadata": {}
  },
  {
   "cell_type": "markdown",
   "source": [
    "### 2.4) 데이터 이해를 위한 탐색과 시각화"
   ],
   "metadata": {}
  },
  {
   "cell_type": "code",
   "execution_count": null,
   "source": [
    "housing = strat_train_set.copy()\r\n",
    "\r\n",
    "# 지리적 데이터 시각화\r\n",
    "housing.plot(kind='scatter', x='longitude', y='latitude')"
   ],
   "outputs": [],
   "metadata": {}
  },
  {
   "cell_type": "code",
   "execution_count": null,
   "source": [
    "housing.plot(kind='scatter', x='longitude', y='latitude', alpha=0.1)"
   ],
   "outputs": [],
   "metadata": {}
  },
  {
   "cell_type": "code",
   "execution_count": null,
   "source": [
    "housing.plot(kind='scatter', x='longitude', y='latitude', alpha=0.4, \r\n",
    "            s=housing['population'] / 100, label='population', figsize=(10, 7),\r\n",
    "            c='median_house_value', cmap=plt.get_cmap('jet'), colorbar=True)\r\n",
    "plt.legend()\r\n",
    "\r\n",
    "# 중간 주택 가격은 인구 밀도와 관련 매우 큼"
   ],
   "outputs": [],
   "metadata": {}
  },
  {
   "cell_type": "code",
   "execution_count": null,
   "source": [
    "# 상관관계 조사 => 데이터셋이 크지 않으므로 표준 상관계수 (피어슨) 사용\r\n",
    "corr_matrix = housing.corr()\r\n",
    "corr_matrix['median_house_value'].sort_values(ascending=False)"
   ],
   "outputs": [],
   "metadata": {}
  },
  {
   "cell_type": "code",
   "execution_count": null,
   "source": [
    "from pandas.plotting import scatter_matrix\r\n",
    "\r\n",
    "attributes = ['median_house_value', 'median_income', 'total_rooms', 'housing_median_age']\r\n",
    "scatter_matrix(housing[attributes], figsize=(12, 8))"
   ],
   "outputs": [],
   "metadata": {}
  },
  {
   "cell_type": "code",
   "execution_count": null,
   "source": [
    "housing.plot(kind='scatter', x='median_income', y='median_house_value', alpha=0.1)"
   ],
   "outputs": [],
   "metadata": {}
  },
  {
   "cell_type": "code",
   "execution_count": null,
   "source": [
    "housing['rooms_per_household'] = housing['total_rooms'] / housing['households']\r\n",
    "housing['bedrooms_per_room'] = housing['total_bedrooms'] / housing['total_rooms']\r\n",
    "housing['population_per_household'] = housing['population'] / housing['households']\r\n",
    "\r\n",
    "corr_matrix = housing.corr()\r\n",
    "corr_matrix['median_house_value'].sort_values(ascending=False)"
   ],
   "outputs": [],
   "metadata": {}
  },
  {
   "cell_type": "markdown",
   "source": [
    "### 2.5) 머신러닝 알고리즘을 위한 데이터 준비"
   ],
   "metadata": {}
  },
  {
   "cell_type": "code",
   "execution_count": null,
   "source": [
    "housing = train_set.drop('median_house_value', axis=1)\r\n",
    "housing_labels = strat_train_set['median_house_value'].copy()"
   ],
   "outputs": [],
   "metadata": {}
  },
  {
   "cell_type": "code",
   "execution_count": null,
   "source": [
    "# 데이터 정제 => 결측치 처리\r\n",
    "# case 1 => 해당 구역 제거\r\n",
    "housing.dropna(subset=['total_bedrooms'])\r\n",
    "\r\n",
    "# case 2 => 전체 특성 삭제\r\n",
    "housing.drop('total_bedrooms', axis=1)\r\n",
    "\r\n",
    "# case 3 => 평균, 중간값 등으로 채움\r\n",
    "median = housing['total_bedrooms'].median()\r\n",
    "housing['total_bedrooms'].fillna(median, inplace=True)\r\n",
    "housing"
   ],
   "outputs": [],
   "metadata": {}
  },
  {
   "cell_type": "code",
   "execution_count": 29,
   "source": [
    "# 결측치 대치\r\n",
    "from sklearn.impute import SimpleImputer\r\n",
    "\r\n",
    "imputer = SimpleImputer(strategy='median')\r\n",
    "\r\n",
    "# 중간값이 수치형 특성에서만 계산될 수 있기 때문에 텍스트 특성 컬럼 제외\r\n",
    "housing_num = housing.drop('ocean_proximity', axis=1)\r\n",
    "\r\n",
    "# 훈련 데이터에 적용\r\n",
    "imputer.fit(housing_num)\r\n",
    "\r\n",
    "# 각 특성 중간값 계산한 결과 객체의 statistics_ 속성에 저장\r\n",
    "imputer.statistics_\r\n",
    "\r\n",
    "# 위 코드와 실행결과 동일\r\n",
    "housing_num.median().values\r\n",
    "\r\n",
    "X = imputer.transform(housing_num)\r\n",
    "\r\n",
    "housing_tr = pd.DataFrame(X, columns=housing_num.columns, index=housing_num.index)\r\n",
    "housing_tr"
   ],
   "outputs": [],
   "metadata": {}
  },
  {
   "cell_type": "code",
   "execution_count": 30,
   "source": [
    "# 텍스트와 범주형 특성 다루기\r\n",
    "housing_cat = housing[['ocean_proximity']]\r\n",
    "housing_cat.head()"
   ],
   "outputs": [
    {
     "output_type": "execute_result",
     "data": {
      "text/plain": [
       "      ocean_proximity\n",
       "14196      NEAR OCEAN\n",
       "8267       NEAR OCEAN\n",
       "17445      NEAR OCEAN\n",
       "14265      NEAR OCEAN\n",
       "2271           INLAND"
      ],
      "text/html": [
       "<div>\n",
       "<style scoped>\n",
       "    .dataframe tbody tr th:only-of-type {\n",
       "        vertical-align: middle;\n",
       "    }\n",
       "\n",
       "    .dataframe tbody tr th {\n",
       "        vertical-align: top;\n",
       "    }\n",
       "\n",
       "    .dataframe thead th {\n",
       "        text-align: right;\n",
       "    }\n",
       "</style>\n",
       "<table border=\"1\" class=\"dataframe\">\n",
       "  <thead>\n",
       "    <tr style=\"text-align: right;\">\n",
       "      <th></th>\n",
       "      <th>ocean_proximity</th>\n",
       "    </tr>\n",
       "  </thead>\n",
       "  <tbody>\n",
       "    <tr>\n",
       "      <th>14196</th>\n",
       "      <td>NEAR OCEAN</td>\n",
       "    </tr>\n",
       "    <tr>\n",
       "      <th>8267</th>\n",
       "      <td>NEAR OCEAN</td>\n",
       "    </tr>\n",
       "    <tr>\n",
       "      <th>17445</th>\n",
       "      <td>NEAR OCEAN</td>\n",
       "    </tr>\n",
       "    <tr>\n",
       "      <th>14265</th>\n",
       "      <td>NEAR OCEAN</td>\n",
       "    </tr>\n",
       "    <tr>\n",
       "      <th>2271</th>\n",
       "      <td>INLAND</td>\n",
       "    </tr>\n",
       "  </tbody>\n",
       "</table>\n",
       "</div>"
      ]
     },
     "metadata": {},
     "execution_count": 30
    }
   ],
   "metadata": {}
  },
  {
   "cell_type": "code",
   "execution_count": 31,
   "source": [
    "# 카테고리 범주형 값 텍스트 숫자 변환\r\n",
    "from sklearn.preprocessing import OrdinalEncoder\r\n",
    "\r\n",
    "ordinal_encoder = OrdinalEncoder()\r\n",
    "housing_cat_encoded = ordinal_encoder.fit_transform(housing_cat)\r\n",
    "housing_cat_encoded[:10]"
   ],
   "outputs": [
    {
     "output_type": "execute_result",
     "data": {
      "text/plain": [
       "array([[4.],\n",
       "       [4.],\n",
       "       [4.],\n",
       "       [4.],\n",
       "       [1.],\n",
       "       [0.],\n",
       "       [0.],\n",
       "       [3.],\n",
       "       [0.],\n",
       "       [0.]])"
      ]
     },
     "metadata": {},
     "execution_count": 31
    }
   ],
   "metadata": {}
  },
  {
   "cell_type": "code",
   "execution_count": 32,
   "source": [
    "# 카테고리 목록\r\n",
    "# 범주형 특성마다 카테고리들의 ID 배열 담은 리스트 반환\r\n",
    "ordinal_encoder.categories_"
   ],
   "outputs": [
    {
     "output_type": "execute_result",
     "data": {
      "text/plain": [
       "[array(['<1H OCEAN', 'INLAND', 'ISLAND', 'NEAR BAY', 'NEAR OCEAN'],\n",
       "       dtype=object)]"
      ]
     },
     "metadata": {},
     "execution_count": 32
    }
   ],
   "metadata": {}
  },
  {
   "cell_type": "code",
   "execution_count": 33,
   "source": [
    "# 원-핫 인코딩, 범주의 값을 원-핫 벡터로 변환\r\n",
    "from sklearn.preprocessing import OneHotEncoder\r\n",
    "\r\n",
    "cat_encoder = OneHotEncoder()\r\n",
    "housing_cat_1hot = cat_encoder.fit_transform(housing_cat)\r\n",
    "# 출력 결과는 사이파이 희소 행렬\r\n",
    "# 0이 아닌 원소 위치만 메모리에 저장\r\n",
    "housing_cat_1hot\r\n",
    "\r\n",
    "# 넘파이 배열 변환\r\n",
    "housing_cat_1hot.toarray()"
   ],
   "outputs": [
    {
     "output_type": "execute_result",
     "data": {
      "text/plain": [
       "array([[0., 0., 0., 0., 1.],\n",
       "       [0., 0., 0., 0., 1.],\n",
       "       [0., 0., 0., 0., 1.],\n",
       "       ...,\n",
       "       [1., 0., 0., 0., 0.],\n",
       "       [1., 0., 0., 0., 0.],\n",
       "       [0., 0., 0., 1., 0.]])"
      ]
     },
     "metadata": {},
     "execution_count": 33
    }
   ],
   "metadata": {}
  },
  {
   "cell_type": "code",
   "execution_count": 34,
   "source": [
    "cat_encoder.categories_"
   ],
   "outputs": [
    {
     "output_type": "execute_result",
     "data": {
      "text/plain": [
       "[array(['<1H OCEAN', 'INLAND', 'ISLAND', 'NEAR BAY', 'NEAR OCEAN'],\n",
       "       dtype=object)]"
      ]
     },
     "metadata": {},
     "execution_count": 34
    }
   ],
   "metadata": {}
  },
  {
   "cell_type": "code",
   "execution_count": 35,
   "source": [
    "# 간단한 변환기 작성\r\n",
    "from sklearn.base import BaseEstimator, TransformerMixin\r\n",
    "\r\n",
    "rooms_ix, bedrooms_ix, population_ix, households_ix = 3, 4, 5, 6\r\n",
    "\r\n",
    "# add_bedrooms_per_room 하이퍼파라미터 => 머신러닝 알고리즘에 도움 여부 확인 가능\r\n",
    "# 준비 단계 자동화 => 다양한 조합 자동화 시도 가능, 최상의 조합 탐색, 시간 절약\r\n",
    "class CombinedAttributesAdder(BaseEstimator, TransformerMixin):\r\n",
    "    def __init__(self, add_bedrooms_per_room=True):\r\n",
    "        self.add_bedrooms_per_room = add_bedrooms_per_room\r\n",
    "    def fit(self, X, y=None):\r\n",
    "        return self\r\n",
    "    def transform(self, X):\r\n",
    "        rooms_per_household = X[:, rooms_ix] / X[:, households_ix]\r\n",
    "        population_per_household = X[:, population_ix] / X[:, households_ix]\r\n",
    "        if self.add_bedrooms_per_room:\r\n",
    "            bedrooms_per_room = X[:, bedrooms_ix] / X[:, rooms_ix]\r\n",
    "            return np.c_[X, rooms_per_household, population_per_household, bedrooms_per_room]\r\n",
    "        else:\r\n",
    "            return np.c_[X, rooms_per_household, population_per_household]\r\n",
    "\r\n",
    "attr_adder = CombinedAttributesAdder(add_bedrooms_per_room=False)\r\n",
    "housing_extra_attribs = attr_adder.transform(housing.values)\r\n",
    "housing_extra_attribs"
   ],
   "outputs": [
    {
     "output_type": "execute_result",
     "data": {
      "text/plain": [
       "array([[-117.03, 32.71, 33.0, ..., 'NEAR OCEAN', 5.017656500802568,\n",
       "        3.691813804173355],\n",
       "       [-118.16, 33.77, 49.0, ..., 'NEAR OCEAN', 4.473544973544974,\n",
       "        1.7380952380952381],\n",
       "       [-120.48, 34.66, 4.0, ..., 'NEAR OCEAN', 5.645833333333333,\n",
       "        2.7232142857142856],\n",
       "       ...,\n",
       "       [-118.38, 34.03, 36.0, ..., '<1H OCEAN', 3.9867172675521823,\n",
       "        3.332068311195446],\n",
       "       [-121.96, 37.58, 15.0, ..., '<1H OCEAN', 6.395348837209302,\n",
       "        3.178890876565295],\n",
       "       [-122.42, 37.77, 52.0, ..., 'NEAR BAY', 3.4025764895330113,\n",
       "        2.108695652173913]], dtype=object)"
      ]
     },
     "metadata": {},
     "execution_count": 35
    }
   ],
   "metadata": {}
  },
  {
   "cell_type": "code",
   "execution_count": 36,
   "source": [
    "# 변환 파이프라인 => 연속된 변환 순차 처리\r\n",
    "# (이름, 추정기) 쌍\r\n",
    "from sklearn.pipeline import Pipeline\r\n",
    "from sklearn.preprocessing import StandardScaler\r\n",
    "\r\n",
    "num_pipeline = Pipeline([\r\n",
    "    ('imputer', SimpleImputer(strategy='median')),\r\n",
    "    ('attribs_adder', CombinedAttributesAdder()),\r\n",
    "    ('std_scaler', StandardScaler())\r\n",
    "])\r\n",
    "\r\n",
    "housing_num_tr = num_pipeline.fit_transform(housing_num)"
   ],
   "outputs": [],
   "metadata": {}
  },
  {
   "cell_type": "code",
   "execution_count": 37,
   "source": [
    "# 범주형, 수치형 열과 같은 모든 열 처리\r\n",
    "# 전처리 파이프라인 생성 => 각 열에 적절한 변환 시행\r\n",
    "from sklearn.compose import ColumnTransformer\r\n",
    "\r\n",
    "num_attribs = list(housing_num)\r\n",
    "cat_attribs = ['ocean_proximity']\r\n",
    "\r\n",
    "full_pipeline = ColumnTransformer([\r\n",
    "    ('num', num_pipeline, num_attribs),\r\n",
    "    ('cat', OneHotEncoder(), cat_attribs)\r\n",
    "])\r\n",
    "\r\n",
    "housing_prepared = full_pipeline.fit_transform(housing)"
   ],
   "outputs": [],
   "metadata": {}
  },
  {
   "cell_type": "markdown",
   "source": [
    "### 2.6) 모델 선택과 훈련"
   ],
   "metadata": {}
  },
  {
   "cell_type": "code",
   "execution_count": 38,
   "source": [
    "# 훈련 세트에서 훈련하고 평가하기\r\n",
    "\r\n",
    "from sklearn.linear_model import LinearRegression\r\n",
    "\r\n",
    "lin_reg = LinearRegression()\r\n",
    "lin_reg.fit(housing_prepared, housing_labels)"
   ],
   "outputs": [
    {
     "output_type": "execute_result",
     "data": {
      "text/plain": [
       "LinearRegression()"
      ]
     },
     "metadata": {},
     "execution_count": 38
    }
   ],
   "metadata": {}
  },
  {
   "cell_type": "code",
   "execution_count": 40,
   "source": [
    "some_data = housing.iloc[:5]\r\n",
    "some_labels = housing_labels.iloc[:5]\r\n",
    "some_data_prepared = full_pipeline.transform(some_data)\r\n",
    "\r\n",
    "print(f'예측: {lin_reg.predict(some_data_prepared)}')\r\n",
    "print(f'레이블: {list(some_labels)}')"
   ],
   "outputs": [
    {
     "output_type": "stream",
     "name": "stdout",
     "text": [
      "예측: [212842.71869744 204346.93995355 207051.22423082 211394.73772039\n",
      " 208264.22833796]\n",
      "레이블: [286600.0, 340600.0, 196900.0, 46300.0, 254500.0]\n"
     ]
    }
   ],
   "metadata": {}
  },
  {
   "cell_type": "code",
   "execution_count": 42,
   "source": [
    "# 전체 훈련 세트에 대한 해당 회귀 모델의 RMSE 측정\r\n",
    "from sklearn.metrics import mean_squared_error\r\n",
    "\r\n",
    "housing_predictions = lin_reg.predict(housing_prepared)\r\n",
    "lin_mse = mean_squared_error(housing_labels, housing_predictions)\r\n",
    "lin_rmse = np.sqrt(lin_mse)\r\n",
    "lin_rmse"
   ],
   "outputs": [
    {
     "output_type": "execute_result",
     "data": {
      "text/plain": [
       "115610.62161702369"
      ]
     },
     "metadata": {},
     "execution_count": 42
    }
   ],
   "metadata": {}
  },
  {
   "cell_type": "code",
   "execution_count": 43,
   "source": [
    "# 위의 과소적합 문제 모델 해결 방안\r\n",
    "# 좋은 예측 만들만큼 충분한 정보 제공 x or 모델이 충분히 강력 x\r\n",
    "# 복잡한 모델 시도\r\n",
    "\r\n",
    "from sklearn.tree import DecisionTreeRegressor\r\n",
    "\r\n",
    "tree_reg = DecisionTreeRegressor()\r\n",
    "tree_reg.fit(housing_prepared, housing_labels)"
   ],
   "outputs": [
    {
     "output_type": "execute_result",
     "data": {
      "text/plain": [
       "DecisionTreeRegressor()"
      ]
     },
     "metadata": {},
     "execution_count": 43
    }
   ],
   "metadata": {}
  },
  {
   "cell_type": "code",
   "execution_count": 44,
   "source": [
    "housing_predictions = tree_reg.predict(housing_prepared)\r\n",
    "tree_mse = mean_squared_error(housing_labels, housing_predictions)\r\n",
    "tree_rmse = np.sqrt(tree_mse)\r\n",
    "tree_rmse\r\n",
    "# 과대 적합"
   ],
   "outputs": [
    {
     "output_type": "execute_result",
     "data": {
      "text/plain": [
       "0.0"
      ]
     },
     "metadata": {},
     "execution_count": 44
    }
   ],
   "metadata": {}
  },
  {
   "cell_type": "code",
   "execution_count": 53,
   "source": [
    "# 교차 검증을 사용한 평가\r\n",
    "from sklearn.model_selection import cross_val_score\r\n",
    "\r\n",
    "# neg_mean_squared_error => mse의 반대 즉 음수값 계산\r\n",
    "scores = cross_val_score(tree_reg, housing_prepared, housing_labels,\r\n",
    "                        scoring='neg_mean_squared_error', cv=10)\r\n",
    "\r\n",
    "# 사이킷런 교차검증 => scoring 매개변수에 낮을수록 좋은 비용함수 사용 x\r\n",
    "# 클수록 좋은 효용 함수 사용 ㅇ\r\n",
    "tree_rmse_scores = np.sqrt(-scores)\r\n",
    "tree_rmse_scores"
   ],
   "outputs": [
    {
     "output_type": "execute_result",
     "data": {
      "text/plain": [
       "array([163273.32345609, 163514.49371075, 163413.52655351, 166139.63393959,\n",
       "       166561.44349161, 166265.00254259, 168745.85032502, 174529.83204151,\n",
       "       167364.40953398, 162349.2792094 ])"
      ]
     },
     "metadata": {},
     "execution_count": 53
    }
   ],
   "metadata": {}
  },
  {
   "cell_type": "code",
   "execution_count": 56,
   "source": [
    "def display_scores(scores):\r\n",
    "    print(f'점수: {scores}')\r\n",
    "    print(f'평균: {scores.mean()}')\r\n",
    "    print(f'표준편차: {scores.std()}')\r\n",
    "\r\n",
    "display_scores(tree_rmse_scores)"
   ],
   "outputs": [
    {
     "output_type": "stream",
     "name": "stdout",
     "text": [
      "점수: [163273.32345609 163514.49371075 163413.52655351 166139.63393959\n",
      " 166561.44349161 166265.00254259 168745.85032502 174529.83204151\n",
      " 167364.40953398 162349.2792094 ]\n",
      "평균: 166215.67948040427\n",
      "표준편차: 3401.8997943187\n"
     ]
    }
   ],
   "metadata": {}
  },
  {
   "cell_type": "code",
   "execution_count": 57,
   "source": [
    "# 선형 회귀 모델 점수 계산\r\n",
    "lin_scores = cross_val_score(lin_reg, housing_prepared, housing_labels, \r\n",
    "                            scoring='neg_mean_squared_error', cv=10)\r\n",
    "lin_rmse_scores = np.sqrt(-lin_scores)\r\n",
    "display_scores(lin_rmse_scores)\r\n",
    "\r\n",
    "# 결정트리 모델이 과대적합되어 선형 회귀 모델보다 성능이 나쁨\r\n"
   ],
   "outputs": [
    {
     "output_type": "stream",
     "name": "stdout",
     "text": [
      "점수: [109593.76776239 117338.00887239 115137.60735795 117603.17016568\n",
      " 115406.28736102 118028.0825645  115080.26407372 117909.30475732\n",
      " 116970.73889143 114167.65174412]\n",
      "평균: 115723.48835505196\n",
      "표준편차: 2421.4907499038613\n"
     ]
    }
   ],
   "metadata": {}
  },
  {
   "cell_type": "markdown",
   "source": [
    "### 2.7) 모델 세부 튜닝"
   ],
   "metadata": {}
  },
  {
   "cell_type": "code",
   "execution_count": null,
   "source": [
    "# 그리드 탐색\r\n"
   ],
   "outputs": [],
   "metadata": {}
  }
 ],
 "metadata": {
  "orig_nbformat": 4,
  "language_info": {
   "name": "python",
   "version": "3.9.5",
   "mimetype": "text/x-python",
   "codemirror_mode": {
    "name": "ipython",
    "version": 3
   },
   "pygments_lexer": "ipython3",
   "nbconvert_exporter": "python",
   "file_extension": ".py"
  },
  "kernelspec": {
   "name": "python3",
   "display_name": "Python 3.9.5 64-bit ('ML_env': conda)"
  },
  "interpreter": {
   "hash": "7f9fcc5c1a6ffe0d5ecfdb6423e678fe1ccb77b795d6b5f0b646ac973c9c9d43"
  }
 },
 "nbformat": 4,
 "nbformat_minor": 2
}